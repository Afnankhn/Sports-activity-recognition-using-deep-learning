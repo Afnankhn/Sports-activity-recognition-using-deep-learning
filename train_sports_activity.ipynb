{
 "cells": [
  {
   "cell_type": "code",
   "execution_count": 66,
   "id": "a413526f",
   "metadata": {},
   "outputs": [],
   "source": [
    "# set the matplotlib backend so figures can be saved in the background\n",
    "import matplotlib\n",
    "matplotlib.use(\"Agg\")\n",
    "# import the necessary packages\n",
    "from tensorflow.keras.preprocessing.image import ImageDataGenerator\n",
    "from tensorflow.keras.layers import AveragePooling2D\n",
    "from tensorflow.keras.applications import ResNet50\n",
    "from tensorflow.keras.layers import Dropout\n",
    "from tensorflow.keras.layers import Flatten\n",
    "from tensorflow.keras.layers import Dense\n",
    "from tensorflow.keras.layers import Input\n",
    "from tensorflow.keras.models import Model\n",
    "from tensorflow.keras.optimizers import SGD\n",
    "from sklearn.preprocessing import LabelBinarizer\n",
    "from sklearn.model_selection import train_test_split\n",
    "from sklearn.metrics import classification_report\n",
    "from imutils import paths\n",
    "import matplotlib.pyplot as plt\n",
    "import numpy as np\n",
    "import argparse\n",
    "import pickle\n",
    "import cv2\n",
    "import os"
   ]
  },
  {
   "cell_type": "code",
   "execution_count": 67,
   "id": "ca39c85f",
   "metadata": {},
   "outputs": [
    {
     "name": "stdout",
     "output_type": "stream",
     "text": [
      "[INFO] loading images...\n"
     ]
    }
   ],
   "source": [
    "dataset = \"D:\\ML_DL\\Examples_work__implementations\\Video_classification_sports\\Sports-Type-Classifier\\data\"\n",
    "\n",
    "# initialize the set of labels from the spots activity dataset we are\n",
    "# going to train our network on\n",
    "LABELS = [\"weight_lifting\", \"tennis\", \"football\"]\n",
    "\n",
    "# grab the list of images in our dataset directory, then initialize\n",
    "# the list of data (i.e., images) and class images\n",
    "print(\"[INFO] loading images...\")\n",
    "\n",
    "imagePaths = paths.list_images(dataset) \n",
    "\n",
    "data = []\n",
    "labels = []\n",
    "\n",
    "# loop over the image paths\n",
    "for imagePath in imagePaths:\n",
    "        # extract the class label from the filename\n",
    "        label = imagePath.split(os.path.sep)[-2]\n",
    "        # if the label of the current image is not part of of the labels\n",
    "        # are interested in, then ignore the image\n",
    "        if label not in LABELS:\n",
    "            continue\n",
    "            \n",
    "        # load the image, convert it to RGB channel ordering, and resize\n",
    "        # it to be a fixed 224x224 pixels, ignoring aspect ratio\n",
    "        image = cv2.imread(imagePath)\n",
    "        image = cv2.cvtColor(image, cv2.COLOR_BGR2RGB)\n",
    "        image = cv2.resize(image, (224, 224))\n",
    "        # update the data and labels lists, respectively\n",
    "        data.append(image)\n",
    "        labels.append(label)"
   ]
  },
  {
   "cell_type": "code",
   "execution_count": 68,
   "id": "dc4aea33",
   "metadata": {},
   "outputs": [
    {
     "name": "stdout",
     "output_type": "stream",
     "text": [
      "2070\n",
      "2070\n"
     ]
    }
   ],
   "source": [
    "print(len(data))\n",
    "print(len(labels))"
   ]
  },
  {
   "cell_type": "code",
   "execution_count": 69,
   "id": "7cd15ad0",
   "metadata": {},
   "outputs": [],
   "source": [
    "# convert the data and labels to NumPy arrays\n",
    "data = np.array(data)\n",
    "labels = np.array(labels)\n",
    "\n",
    "# perform one-hot encoding on the labels\n",
    "lb = LabelBinarizer()\n",
    "labels = lb.fit_transform(labels)\n",
    "\n",
    "# partition the data into training and testing splits using 75% of\n",
    "# the data for training and the remaining 25% for testing\n",
    "(trainX, testX, trainY, testY) = train_test_split(data, labels, test_size=0.25, stratify=labels, random_state=42)"
   ]
  },
  {
   "cell_type": "code",
   "execution_count": 70,
   "id": "8e33bf5e",
   "metadata": {},
   "outputs": [],
   "source": [
    "# initialize the training data augmentation object\n",
    "trainAug = ImageDataGenerator(\n",
    "        rotation_range=30,\n",
    "        zoom_range=0.15,\n",
    "        width_shift_range=0.2,\n",
    "        height_shift_range=0.2,\n",
    "        shear_range=0.15,\n",
    "        horizontal_flip=True,\n",
    "        fill_mode=\"nearest\")\n",
    "\n",
    "# initialize the validation/testing data augmentation object (which\n",
    "# we'll be adding mean subtraction to)\n",
    "valAug = ImageDataGenerator()\n",
    "\n",
    "# define the ImageNet mean subtraction (in RGB order) and set the\n",
    "# the mean subtraction value for each of the data augmentation\n",
    "# objects\n",
    "mean = np.array([123.68, 116.779, 103.939], dtype=\"float32\")\n",
    "trainAug.mean = mean\n",
    "valAug.mean = mean"
   ]
  },
  {
   "cell_type": "code",
   "execution_count": 71,
   "id": "a7261d49",
   "metadata": {},
   "outputs": [],
   "source": [
    "# load the ResNet-50 network, ensuring the head FC layer sets are left\n",
    "# off\n",
    "baseModel = ResNet50(weights=\"imagenet\", include_top=False, input_tensor=Input(shape=(224, 224, 3)))\n",
    "\n",
    "# construct the head of the model that will be placed on top of the\n",
    "# the base model\n",
    "headModel = baseModel.output\n",
    "headModel = AveragePooling2D(pool_size=(7, 7))(headModel)\n",
    "headModel = Flatten(name=\"flatten\")(headModel)\n",
    "headModel = Dense(512, activation=\"relu\")(headModel)\n",
    "headModel = Dropout(0.5)(headModel)\n",
    "headModel = Dense(len(lb.classes_), activation=\"softmax\")(headModel)\n",
    "\n",
    "# place the head FC model on top of the base model (this will become\n",
    "# the actual model we will train)\n",
    "model = Model(inputs=baseModel.input, outputs=headModel)\n",
    "\n",
    "# loop over all layers in the base model and freeze them so they will\n",
    "# *not* be updated during the training process\n",
    "for layer in baseModel.layers:\n",
    "    layer.trainable = False"
   ]
  },
  {
   "cell_type": "code",
   "execution_count": 72,
   "id": "05cd0426",
   "metadata": {},
   "outputs": [
    {
     "name": "stdout",
     "output_type": "stream",
     "text": [
      "[INFO] compiling model...\n",
      "[INFO] training head...\n"
     ]
    },
    {
     "name": "stderr",
     "output_type": "stream",
     "text": [
      "C:\\Users\\Image903\\anaconda3\\lib\\site-packages\\keras\\optimizers\\optimizer_v2\\gradient_descent.py:111: UserWarning: The `lr` argument is deprecated, use `learning_rate` instead.\n",
      "  super().__init__(name, **kwargs)\n"
     ]
    },
    {
     "name": "stdout",
     "output_type": "stream",
     "text": [
      "Epoch 1/30\n",
      "48/48 [==============================] - 18s 283ms/step - loss: 1.2195 - accuracy: 0.4901 - val_loss: 0.7129 - val_accuracy: 0.7012\n",
      "Epoch 2/30\n",
      "48/48 [==============================] - 13s 260ms/step - loss: 0.8264 - accuracy: 0.6480 - val_loss: 0.5177 - val_accuracy: 0.8047\n",
      "Epoch 3/30\n",
      "48/48 [==============================] - 13s 263ms/step - loss: 0.6793 - accuracy: 0.7171 - val_loss: 0.4336 - val_accuracy: 0.8438\n",
      "Epoch 4/30\n",
      "48/48 [==============================] - 13s 264ms/step - loss: 0.5513 - accuracy: 0.7711 - val_loss: 0.3807 - val_accuracy: 0.8672\n",
      "Epoch 5/30\n",
      "48/48 [==============================] - 13s 262ms/step - loss: 0.5216 - accuracy: 0.7974 - val_loss: 0.3482 - val_accuracy: 0.8828\n",
      "Epoch 6/30\n",
      "48/48 [==============================] - 13s 263ms/step - loss: 0.4849 - accuracy: 0.8184 - val_loss: 0.3227 - val_accuracy: 0.8906\n",
      "Epoch 7/30\n",
      "48/48 [==============================] - 13s 260ms/step - loss: 0.4373 - accuracy: 0.8296 - val_loss: 0.3055 - val_accuracy: 0.9004\n",
      "Epoch 8/30\n",
      "48/48 [==============================] - 13s 263ms/step - loss: 0.4369 - accuracy: 0.8257 - val_loss: 0.2946 - val_accuracy: 0.9043\n",
      "Epoch 9/30\n",
      "48/48 [==============================] - 12s 259ms/step - loss: 0.3924 - accuracy: 0.8546 - val_loss: 0.2814 - val_accuracy: 0.9082\n",
      "Epoch 10/30\n",
      "48/48 [==============================] - 13s 263ms/step - loss: 0.3717 - accuracy: 0.8638 - val_loss: 0.2702 - val_accuracy: 0.9121\n",
      "Epoch 11/30\n",
      "48/48 [==============================] - 13s 262ms/step - loss: 0.3876 - accuracy: 0.8480 - val_loss: 0.2621 - val_accuracy: 0.9121\n",
      "Epoch 12/30\n",
      "48/48 [==============================] - 13s 266ms/step - loss: 0.3684 - accuracy: 0.8559 - val_loss: 0.2545 - val_accuracy: 0.9180\n",
      "Epoch 13/30\n",
      "48/48 [==============================] - 13s 270ms/step - loss: 0.3611 - accuracy: 0.8645 - val_loss: 0.2498 - val_accuracy: 0.9160\n",
      "Epoch 14/30\n",
      "48/48 [==============================] - 13s 267ms/step - loss: 0.3408 - accuracy: 0.8664 - val_loss: 0.2440 - val_accuracy: 0.9121\n",
      "Epoch 15/30\n",
      "48/48 [==============================] - 13s 262ms/step - loss: 0.3477 - accuracy: 0.8664 - val_loss: 0.2423 - val_accuracy: 0.9141\n",
      "Epoch 16/30\n",
      "48/48 [==============================] - 13s 263ms/step - loss: 0.3292 - accuracy: 0.8711 - val_loss: 0.2397 - val_accuracy: 0.9160\n",
      "Epoch 17/30\n",
      "48/48 [==============================] - 13s 261ms/step - loss: 0.3174 - accuracy: 0.8711 - val_loss: 0.2312 - val_accuracy: 0.9180\n",
      "Epoch 18/30\n",
      "48/48 [==============================] - 13s 263ms/step - loss: 0.3006 - accuracy: 0.8928 - val_loss: 0.2253 - val_accuracy: 0.9180\n",
      "Epoch 19/30\n",
      "48/48 [==============================] - 13s 263ms/step - loss: 0.3040 - accuracy: 0.8862 - val_loss: 0.2162 - val_accuracy: 0.9199\n",
      "Epoch 20/30\n",
      "48/48 [==============================] - 13s 270ms/step - loss: 0.3139 - accuracy: 0.8783 - val_loss: 0.2238 - val_accuracy: 0.9082\n",
      "Epoch 21/30\n",
      "48/48 [==============================] - 13s 260ms/step - loss: 0.3012 - accuracy: 0.8888 - val_loss: 0.2193 - val_accuracy: 0.9199\n",
      "Epoch 22/30\n",
      "48/48 [==============================] - 13s 263ms/step - loss: 0.2826 - accuracy: 0.8987 - val_loss: 0.2134 - val_accuracy: 0.9199\n",
      "Epoch 23/30\n",
      "48/48 [==============================] - 13s 262ms/step - loss: 0.2801 - accuracy: 0.8914 - val_loss: 0.2135 - val_accuracy: 0.9199\n",
      "Epoch 24/30\n",
      "48/48 [==============================] - 13s 271ms/step - loss: 0.2850 - accuracy: 0.8829 - val_loss: 0.2102 - val_accuracy: 0.9199\n",
      "Epoch 25/30\n",
      "48/48 [==============================] - 13s 263ms/step - loss: 0.2729 - accuracy: 0.8934 - val_loss: 0.2073 - val_accuracy: 0.9219\n",
      "Epoch 26/30\n",
      "48/48 [==============================] - 13s 263ms/step - loss: 0.2673 - accuracy: 0.8993 - val_loss: 0.1987 - val_accuracy: 0.9238\n",
      "Epoch 27/30\n",
      "48/48 [==============================] - 13s 261ms/step - loss: 0.2576 - accuracy: 0.8987 - val_loss: 0.2031 - val_accuracy: 0.9219\n",
      "Epoch 28/30\n",
      "48/48 [==============================] - 13s 263ms/step - loss: 0.2492 - accuracy: 0.9118 - val_loss: 0.1950 - val_accuracy: 0.9219\n",
      "Epoch 29/30\n",
      "48/48 [==============================] - 25s 520ms/step - loss: 0.2548 - accuracy: 0.9072 - val_loss: 0.2000 - val_accuracy: 0.9199\n",
      "Epoch 30/30\n",
      "48/48 [==============================] - 16s 327ms/step - loss: 0.2438 - accuracy: 0.9099 - val_loss: 0.1985 - val_accuracy: 0.9199\n"
     ]
    }
   ],
   "source": [
    "epochs = 30;\n",
    "\n",
    "# compile our model (this needs to be done after our setting our\n",
    "# layers to being non-trainable)\n",
    "print(\"[INFO] compiling model...\")\n",
    "opt = SGD(lr=1e-4, momentum=0.9, decay=1e-4 / epochs)\n",
    "model.compile(loss=\"categorical_crossentropy\", optimizer=opt, metrics=[\"accuracy\"])\n",
    "\n",
    "# train the head of the network for a few epochs (all other layers\n",
    "# are frozen) -- this will allow the new FC layers to start to become\n",
    "# initialized with actual \"learned\" values versus pure random\n",
    "print(\"[INFO] training head...\")\n",
    "H = model.fit(\n",
    "        x=trainAug.flow(trainX, trainY, batch_size=32),\n",
    "        steps_per_epoch=len(trainX) // 32,\n",
    "        validation_data=valAug.flow(testX, testY),\n",
    "        validation_steps=len(testX) // 32,\n",
    "        epochs=epochs)"
   ]
  },
  {
   "cell_type": "code",
   "execution_count": 77,
   "id": "77bf984a",
   "metadata": {},
   "outputs": [
    {
     "name": "stdout",
     "output_type": "stream",
     "text": [
      "[INFO] evaluating network...\n",
      "17/17 [==============================] - 2s 90ms/step\n",
      "                precision    recall  f1-score   support\n",
      "\n",
      "      football       0.92      0.93      0.92       196\n",
      "        tennis       0.91      0.90      0.91       179\n",
      "weight_lifting       0.93      0.94      0.93       143\n",
      "\n",
      "      accuracy                           0.92       518\n",
      "     macro avg       0.92      0.92      0.92       518\n",
      "  weighted avg       0.92      0.92      0.92       518\n",
      "\n"
     ]
    }
   ],
   "source": [
    "print(\"[INFO] evaluating network...\")\n",
    "\n",
    "predictions = model.predict(x=testX.astype(\"float32\"), batch_size=32)\n",
    "print(classification_report(testY.argmax(axis=1), predictions.argmax(axis=1), target_names=lb.classes_))\n"
   ]
  },
  {
   "cell_type": "code",
   "execution_count": 86,
   "id": "6cedc862",
   "metadata": {},
   "outputs": [
    {
     "ename": "AttributeError",
     "evalue": "'list' object has no attribute 'use'",
     "output_type": "error",
     "traceback": [
      "\u001b[1;31m---------------------------------------------------------------------------\u001b[0m",
      "\u001b[1;31mAttributeError\u001b[0m                            Traceback (most recent call last)",
      "Input \u001b[1;32mIn [86]\u001b[0m, in \u001b[0;36m<cell line: 3>\u001b[1;34m()\u001b[0m\n\u001b[0;32m      1\u001b[0m \u001b[38;5;66;03m# plot the training loss and accuracy\u001b[39;00m\n\u001b[0;32m      2\u001b[0m N \u001b[38;5;241m=\u001b[39m epochs\n\u001b[1;32m----> 3\u001b[0m \u001b[43mplt\u001b[49m\u001b[38;5;241;43m.\u001b[39;49m\u001b[43mstyle\u001b[49m\u001b[38;5;241;43m.\u001b[39;49m\u001b[43muse\u001b[49m(\u001b[38;5;124m\"\u001b[39m\u001b[38;5;124mggplot\u001b[39m\u001b[38;5;124m\"\u001b[39m)\n\u001b[0;32m      4\u001b[0m plt\u001b[38;5;241m.\u001b[39mfigure()\n\u001b[0;32m      5\u001b[0m plt\u001b[38;5;241m.\u001b[39mplot(np\u001b[38;5;241m.\u001b[39marange(\u001b[38;5;241m0\u001b[39m, N), H\u001b[38;5;241m.\u001b[39mhistory[\u001b[38;5;124m\"\u001b[39m\u001b[38;5;124mloss\u001b[39m\u001b[38;5;124m\"\u001b[39m], label\u001b[38;5;241m=\u001b[39m\u001b[38;5;124m\"\u001b[39m\u001b[38;5;124mtrain_loss\u001b[39m\u001b[38;5;124m\"\u001b[39m)\n",
      "\u001b[1;31mAttributeError\u001b[0m: 'list' object has no attribute 'use'"
     ]
    }
   ],
   "source": [
    "# plot the training loss and accuracy\n",
    "N = epochs\n",
    "plt.style.use(\"ggplot\")\n",
    "plt.figure()\n",
    "plt.plot(np.arange(0, N), H.history[\"loss\"], label=\"train_loss\")\n",
    "plt.plot(np.arange(0, N), H.history[\"val_loss\"], label=\"val_loss\")\n",
    "plt.plot(np.arange(0, N), H.history[\"accuracy\"], label=\"train_acc\")\n",
    "plt.plot(np.arange(0, N), H.history[\"val_accuracy\"], label=\"val_acc\")\n",
    "plt.title(\"Training Loss and Accuracy on Dataset\")\n",
    "plt.xlabel(\"Epoch #\")\n",
    "plt.ylabel(\"Loss/Accuracy\")\n",
    "plt.legend(loc=\"lower left\")\n",
    "plt.savefig(\"fig_train_loss.png\", dpi=600)"
   ]
  },
  {
   "cell_type": "code",
   "execution_count": 74,
   "id": "0e2b7803",
   "metadata": {},
   "outputs": [
    {
     "name": "stdout",
     "output_type": "stream",
     "text": [
      "[INFO] serializing network...\n"
     ]
    }
   ],
   "source": [
    "# serialize the model to disk\n",
    "print(\"[INFO] serializing network...\")\n",
    "model.save('sports_model.h5')"
   ]
  },
  {
   "cell_type": "code",
   "execution_count": 75,
   "id": "87701f14",
   "metadata": {},
   "outputs": [],
   "source": [
    "# serialize the label binarizer to disk\n",
    "f = open(\"label_bin.pickle\", \"wb\")\n",
    "f.write(pickle.dumps(lb))\n",
    "f.close()"
   ]
  },
  {
   "cell_type": "code",
   "execution_count": null,
   "id": "267fa7b6",
   "metadata": {},
   "outputs": [],
   "source": []
  }
 ],
 "metadata": {
  "kernelspec": {
   "display_name": "Python 3 (ipykernel)",
   "language": "python",
   "name": "python3"
  },
  "language_info": {
   "codemirror_mode": {
    "name": "ipython",
    "version": 3
   },
   "file_extension": ".py",
   "mimetype": "text/x-python",
   "name": "python",
   "nbconvert_exporter": "python",
   "pygments_lexer": "ipython3",
   "version": "3.9.12"
  }
 },
 "nbformat": 4,
 "nbformat_minor": 5
}
